{
 "cells": [
  {
   "cell_type": "code",
   "execution_count": 7,
   "metadata": {},
   "outputs": [],
   "source": [
    "x= [{\n",
    "\"name\": \"Murate of potash\",\n",
    "\"percentage\": \"55.0\"\n",
    "},\n",
    "{\n",
    "\"name\": \"Potassium sulphate\",\n",
    "\"percentage\": \"49.5\"\n",
    "}]"
   ]
  },
  {
   "cell_type": "code",
   "execution_count": 8,
   "metadata": {},
   "outputs": [
    {
     "name": "stdout",
     "output_type": "stream",
     "text": [
      "Murate of potash,55.0\n",
      "Potassium sulphate,49.5\n"
     ]
    }
   ],
   "source": [
    "for b in x :\n",
    "    print(b[\"name\"] +\",\"+b[\"percentage\"] )"
   ]
  },
  {
   "cell_type": "code",
   "execution_count": null,
   "metadata": {},
   "outputs": [],
   "source": []
  }
 ],
 "metadata": {
  "kernelspec": {
   "display_name": "Python 3",
   "language": "python",
   "name": "python3"
  },
  "language_info": {
   "codemirror_mode": {
    "name": "ipython",
    "version": 3
   },
   "file_extension": ".py",
   "mimetype": "text/x-python",
   "name": "python",
   "nbconvert_exporter": "python",
   "pygments_lexer": "ipython3",
   "version": "3.6.4"
  }
 },
 "nbformat": 4,
 "nbformat_minor": 2
}
